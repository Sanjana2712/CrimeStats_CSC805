{
 "cells": [
  {
   "cell_type": "code",
   "execution_count": 78,
   "metadata": {
    "id": "rcN7H21EB6w_"
   },
   "outputs": [],
   "source": [
    "import pandas as pd\n",
    "import matplotlib.pyplot as plt\n",
    "import seaborn as sns"
   ]
  },
  {
   "cell_type": "code",
   "execution_count": 79,
   "metadata": {
    "id": "ya80pxxtCBx-"
   },
   "outputs": [],
   "source": [
    "import numpy as np"
   ]
  },
  {
   "cell_type": "code",
   "execution_count": 80,
   "metadata": {
    "colab": {
     "base_uri": "https://localhost:8080/",
     "height": 329
    },
    "id": "Lx2Y_9hfE1Gr",
    "outputId": "1d2aa9ae-6a12-400c-9a3c-c51b959069a9"
   },
   "outputs": [],
   "source": [
    "data = pd.read_csv(\"./state_crime.csv\")"
   ]
  },
  {
   "cell_type": "code",
   "execution_count": 81,
   "metadata": {
    "colab": {
     "base_uri": "https://localhost:8080/",
     "height": 270
    },
    "id": "hga1Sv_gKXmh",
    "outputId": "4574ba8e-4b2a-4150-ee38-d2a0311b478c",
    "scrolled": true
   },
   "outputs": [
    {
     "data": {
      "text/html": [
       "<div>\n",
       "<style scoped>\n",
       "    .dataframe tbody tr th:only-of-type {\n",
       "        vertical-align: middle;\n",
       "    }\n",
       "\n",
       "    .dataframe tbody tr th {\n",
       "        vertical-align: top;\n",
       "    }\n",
       "\n",
       "    .dataframe thead th {\n",
       "        text-align: right;\n",
       "    }\n",
       "</style>\n",
       "<table border=\"1\" class=\"dataframe\">\n",
       "  <thead>\n",
       "    <tr style=\"text-align: right;\">\n",
       "      <th></th>\n",
       "      <th>State</th>\n",
       "      <th>Latitude</th>\n",
       "      <th>Longitude</th>\n",
       "      <th>Year</th>\n",
       "      <th>Data.Population</th>\n",
       "      <th>Data.Totals.Property.All</th>\n",
       "      <th>Data.Totals.Property.Burglary</th>\n",
       "      <th>Data.Totals.Property.Larceny</th>\n",
       "      <th>Data.Totals.Property.Motor</th>\n",
       "      <th>Data.Totals.Violent.All</th>\n",
       "      <th>Data.Totals.Violent.Assault</th>\n",
       "      <th>Data.Totals.Violent.Murder</th>\n",
       "      <th>Data.Totals.Violent.Rape</th>\n",
       "      <th>Data.Totals.Violent.Robbery</th>\n",
       "    </tr>\n",
       "  </thead>\n",
       "  <tbody>\n",
       "    <tr>\n",
       "      <th>0</th>\n",
       "      <td>Alabama</td>\n",
       "      <td>32.806671</td>\n",
       "      <td>-86.79113</td>\n",
       "      <td>1999</td>\n",
       "      <td>4369862</td>\n",
       "      <td>171398</td>\n",
       "      <td>38648</td>\n",
       "      <td>119616</td>\n",
       "      <td>13134</td>\n",
       "      <td>21421</td>\n",
       "      <td>14266</td>\n",
       "      <td>345</td>\n",
       "      <td>1513</td>\n",
       "      <td>5297</td>\n",
       "    </tr>\n",
       "    <tr>\n",
       "      <th>1</th>\n",
       "      <td>Alabama</td>\n",
       "      <td>32.806671</td>\n",
       "      <td>-86.79113</td>\n",
       "      <td>2000</td>\n",
       "      <td>4447100</td>\n",
       "      <td>180539</td>\n",
       "      <td>40331</td>\n",
       "      <td>127399</td>\n",
       "      <td>12809</td>\n",
       "      <td>21620</td>\n",
       "      <td>14107</td>\n",
       "      <td>329</td>\n",
       "      <td>1482</td>\n",
       "      <td>5702</td>\n",
       "    </tr>\n",
       "    <tr>\n",
       "      <th>2</th>\n",
       "      <td>Alabama</td>\n",
       "      <td>32.806671</td>\n",
       "      <td>-86.79113</td>\n",
       "      <td>2001</td>\n",
       "      <td>4468912</td>\n",
       "      <td>173253</td>\n",
       "      <td>40642</td>\n",
       "      <td>119992</td>\n",
       "      <td>12619</td>\n",
       "      <td>19582</td>\n",
       "      <td>12250</td>\n",
       "      <td>379</td>\n",
       "      <td>1369</td>\n",
       "      <td>5584</td>\n",
       "    </tr>\n",
       "    <tr>\n",
       "      <th>3</th>\n",
       "      <td>Alabama</td>\n",
       "      <td>32.806671</td>\n",
       "      <td>-86.79113</td>\n",
       "      <td>2002</td>\n",
       "      <td>4478896</td>\n",
       "      <td>180400</td>\n",
       "      <td>42578</td>\n",
       "      <td>123932</td>\n",
       "      <td>13890</td>\n",
       "      <td>19931</td>\n",
       "      <td>12002</td>\n",
       "      <td>303</td>\n",
       "      <td>1664</td>\n",
       "      <td>5962</td>\n",
       "    </tr>\n",
       "    <tr>\n",
       "      <th>4</th>\n",
       "      <td>Alabama</td>\n",
       "      <td>32.806671</td>\n",
       "      <td>-86.79113</td>\n",
       "      <td>2003</td>\n",
       "      <td>4503726</td>\n",
       "      <td>182241</td>\n",
       "      <td>43245</td>\n",
       "      <td>124039</td>\n",
       "      <td>14957</td>\n",
       "      <td>19331</td>\n",
       "      <td>11338</td>\n",
       "      <td>299</td>\n",
       "      <td>1656</td>\n",
       "      <td>6038</td>\n",
       "    </tr>\n",
       "  </tbody>\n",
       "</table>\n",
       "</div>"
      ],
      "text/plain": [
       "     State   Latitude  Longitude  Year  Data.Population  \\\n",
       "0  Alabama  32.806671  -86.79113  1999          4369862   \n",
       "1  Alabama  32.806671  -86.79113  2000          4447100   \n",
       "2  Alabama  32.806671  -86.79113  2001          4468912   \n",
       "3  Alabama  32.806671  -86.79113  2002          4478896   \n",
       "4  Alabama  32.806671  -86.79113  2003          4503726   \n",
       "\n",
       "   Data.Totals.Property.All  Data.Totals.Property.Burglary  \\\n",
       "0                    171398                          38648   \n",
       "1                    180539                          40331   \n",
       "2                    173253                          40642   \n",
       "3                    180400                          42578   \n",
       "4                    182241                          43245   \n",
       "\n",
       "   Data.Totals.Property.Larceny  Data.Totals.Property.Motor  \\\n",
       "0                        119616                       13134   \n",
       "1                        127399                       12809   \n",
       "2                        119992                       12619   \n",
       "3                        123932                       13890   \n",
       "4                        124039                       14957   \n",
       "\n",
       "   Data.Totals.Violent.All  Data.Totals.Violent.Assault  \\\n",
       "0                    21421                        14266   \n",
       "1                    21620                        14107   \n",
       "2                    19582                        12250   \n",
       "3                    19931                        12002   \n",
       "4                    19331                        11338   \n",
       "\n",
       "   Data.Totals.Violent.Murder  Data.Totals.Violent.Rape  \\\n",
       "0                         345                      1513   \n",
       "1                         329                      1482   \n",
       "2                         379                      1369   \n",
       "3                         303                      1664   \n",
       "4                         299                      1656   \n",
       "\n",
       "   Data.Totals.Violent.Robbery  \n",
       "0                         5297  \n",
       "1                         5702  \n",
       "2                         5584  \n",
       "3                         5962  \n",
       "4                         6038  "
      ]
     },
     "execution_count": 81,
     "metadata": {},
     "output_type": "execute_result"
    }
   ],
   "source": [
    "data.head(5)"
   ]
  },
  {
   "cell_type": "markdown",
   "metadata": {},
   "source": [
    "SPLITTING DATA BY YEAR AND CRIMES"
   ]
  },
  {
   "cell_type": "code",
   "execution_count": 82,
   "metadata": {},
   "outputs": [
    {
     "data": {
      "text/html": [
       "<div>\n",
       "<style scoped>\n",
       "    .dataframe tbody tr th:only-of-type {\n",
       "        vertical-align: middle;\n",
       "    }\n",
       "\n",
       "    .dataframe tbody tr th {\n",
       "        vertical-align: top;\n",
       "    }\n",
       "\n",
       "    .dataframe thead th {\n",
       "        text-align: right;\n",
       "    }\n",
       "</style>\n",
       "<table border=\"1\" class=\"dataframe\">\n",
       "  <thead>\n",
       "    <tr style=\"text-align: right;\">\n",
       "      <th></th>\n",
       "      <th>Data.Totals.Property.Burglary</th>\n",
       "      <th>Data.Totals.Property.Larceny</th>\n",
       "      <th>Data.Totals.Property.Motor</th>\n",
       "      <th>Data.Totals.Violent.Assault</th>\n",
       "      <th>Data.Totals.Violent.Murder</th>\n",
       "      <th>Data.Totals.Violent.Rape</th>\n",
       "      <th>Data.Totals.Violent.Robbery</th>\n",
       "    </tr>\n",
       "    <tr>\n",
       "      <th>Year</th>\n",
       "      <th></th>\n",
       "      <th></th>\n",
       "      <th></th>\n",
       "      <th></th>\n",
       "      <th></th>\n",
       "      <th></th>\n",
       "      <th></th>\n",
       "    </tr>\n",
       "  </thead>\n",
       "  <tbody>\n",
       "    <tr>\n",
       "      <th>1999</th>\n",
       "      <td>2100739</td>\n",
       "      <td>6955520</td>\n",
       "      <td>1152075</td>\n",
       "      <td>911740</td>\n",
       "      <td>15522</td>\n",
       "      <td>89411</td>\n",
       "      <td>409371</td>\n",
       "    </tr>\n",
       "    <tr>\n",
       "      <th>2000</th>\n",
       "      <td>2050992</td>\n",
       "      <td>6971590</td>\n",
       "      <td>1160002</td>\n",
       "      <td>911706</td>\n",
       "      <td>15586</td>\n",
       "      <td>90178</td>\n",
       "      <td>408016</td>\n",
       "    </tr>\n",
       "    <tr>\n",
       "      <th>2001</th>\n",
       "      <td>2116531</td>\n",
       "      <td>7092267</td>\n",
       "      <td>1228391</td>\n",
       "      <td>909023</td>\n",
       "      <td>16037</td>\n",
       "      <td>90863</td>\n",
       "      <td>423557</td>\n",
       "    </tr>\n",
       "    <tr>\n",
       "      <th>2002</th>\n",
       "      <td>2151252</td>\n",
       "      <td>7057379</td>\n",
       "      <td>1246646</td>\n",
       "      <td>891407</td>\n",
       "      <td>16229</td>\n",
       "      <td>95235</td>\n",
       "      <td>420806</td>\n",
       "    </tr>\n",
       "    <tr>\n",
       "      <th>2003</th>\n",
       "      <td>2154834</td>\n",
       "      <td>7026802</td>\n",
       "      <td>1261226</td>\n",
       "      <td>859030</td>\n",
       "      <td>16528</td>\n",
       "      <td>93883</td>\n",
       "      <td>414235</td>\n",
       "    </tr>\n",
       "  </tbody>\n",
       "</table>\n",
       "</div>"
      ],
      "text/plain": [
       "      Data.Totals.Property.Burglary  Data.Totals.Property.Larceny  \\\n",
       "Year                                                                \n",
       "1999                        2100739                       6955520   \n",
       "2000                        2050992                       6971590   \n",
       "2001                        2116531                       7092267   \n",
       "2002                        2151252                       7057379   \n",
       "2003                        2154834                       7026802   \n",
       "\n",
       "      Data.Totals.Property.Motor  Data.Totals.Violent.Assault  \\\n",
       "Year                                                            \n",
       "1999                     1152075                       911740   \n",
       "2000                     1160002                       911706   \n",
       "2001                     1228391                       909023   \n",
       "2002                     1246646                       891407   \n",
       "2003                     1261226                       859030   \n",
       "\n",
       "      Data.Totals.Violent.Murder  Data.Totals.Violent.Rape  \\\n",
       "Year                                                         \n",
       "1999                       15522                     89411   \n",
       "2000                       15586                     90178   \n",
       "2001                       16037                     90863   \n",
       "2002                       16229                     95235   \n",
       "2003                       16528                     93883   \n",
       "\n",
       "      Data.Totals.Violent.Robbery  \n",
       "Year                               \n",
       "1999                       409371  \n",
       "2000                       408016  \n",
       "2001                       423557  \n",
       "2002                       420806  \n",
       "2003                       414235  "
      ]
     },
     "execution_count": 82,
     "metadata": {},
     "output_type": "execute_result"
    }
   ],
   "source": [
    "yearly_crime_sums = data.groupby(\"Year\")[[\"Data.Totals.Property.Burglary\", \"Data.Totals.Property.Larceny\",\n",
    "                                                 \"Data.Totals.Property.Motor\", \"Data.Totals.Violent.Assault\",\n",
    "                                                 \"Data.Totals.Violent.Murder\",\n",
    "                                                 \"Data.Totals.Violent.Rape\", \"Data.Totals.Violent.Robbery\"]].sum()\n",
    "\n",
    "yearly_crime_sums.head()"
   ]
  },
  {
   "cell_type": "code",
   "execution_count": 83,
   "metadata": {},
   "outputs": [
    {
     "name": "stdout",
     "output_type": "stream",
     "text": [
      "2050992\n"
     ]
    }
   ],
   "source": [
    "year_1999_data = data[data[\"Year\"] == 2000]\n",
    "print(year_1999_data[\"Data.Totals.Property.Burglary\"].sum())"
   ]
  },
  {
   "cell_type": "code",
   "execution_count": 84,
   "metadata": {},
   "outputs": [],
   "source": [
    "yearly_crime_sums.to_csv('NewData',index=False)"
   ]
  },
  {
   "cell_type": "markdown",
   "metadata": {},
   "source": [
    "EXTRACTING DATASETS FOR EACH YEAR"
   ]
  },
  {
   "cell_type": "code",
   "execution_count": null,
   "metadata": {},
   "outputs": [],
   "source": [
    "year_1999 = new_df.loc[new_df['Year'] == 1999]\n",
    "year_2000 = new_df.loc[new_df['Year'] == 2000]\n",
    "year_2001 = new_df.loc[new_df['Year'] == 2001]\n",
    "year_2002 = new_df.loc[new_df['Year'] == 2002]\n",
    "year_2003 = new_df.loc[new_df['Year'] == 2003]\n",
    "year_2004 = new_df.loc[new_df['Year'] == 2004]\n",
    "year_2005 = new_df.loc[new_df['Year'] == 2005]\n",
    "year_2006 = new_df.loc[new_df['Year'] == 2006]\n",
    "year_2007 = new_df.loc[new_df['Year'] == 2007]\n",
    "year_2008 = new_df.loc[new_df['Year'] == 2008]\n",
    "year_2009 = new_df.loc[new_df['Year'] == 2009]\n",
    "year_2010 = new_df.loc[new_df['Year'] == 2010]\n",
    "year_2011 = new_df.loc[new_df['Year'] == 2011]\n",
    "year_2012 = new_df.loc[new_df['Year'] == 2012]\n",
    "year_2013 = new_df.loc[new_df['Year'] == 2013]\n",
    "year_2014 = new_df.loc[new_df['Year'] == 2014]\n",
    "year_2015 = new_df.loc[new_df['Year'] == 2015]\n",
    "year_2016 = new_df.loc[new_df['Year'] == 2016]\n",
    "year_2017 = new_df.loc[new_df['Year'] == 2017]\n",
    "year_2018 = new_df.loc[new_df['Year'] == 2018]\n",
    "year_2019 = new_df.loc[new_df['Year'] == 2019]"
   ]
  },
  {
   "cell_type": "code",
   "execution_count": null,
   "metadata": {},
   "outputs": [],
   "source": [
    "year_1999.to_csv('1999.csv', index=False)\n",
    "year_2000.to_csv('2000.csv', index=False)\n",
    "year_2001.to_csv('2001.csv', index=False)\n",
    "year_2002.to_csv('2002.csv', index=False)\n",
    "year_2003.to_csv('2003.csv', index=False)\n",
    "year_2004.to_csv('2004.csv', index=False)\n",
    "year_2005.to_csv('2005.csv', index=False)\n",
    "year_2006.to_csv('2006.csv', index=False)\n",
    "year_2007.to_csv('2007.csv', index=False)\n",
    "year_2008.to_csv('2008.csv', index=False)\n",
    "year_2009.to_csv('2009.csv', index=False)\n",
    "year_2010.to_csv('2010.csv', index=False)\n",
    "year_2011.to_csv('2011.csv', index=False)\n",
    "year_2012.to_csv('2012.csv', index=False)\n",
    "year_2013.to_csv('2013.csv', index=False)\n",
    "year_2014.to_csv('2014.csv', index=False)\n",
    "year_2015.to_csv('2015.csv', index=False)\n",
    "year_2016.to_csv('2016.csv', index=False)\n",
    "year_2017.to_csv('2017.csv', index=False)\n",
    "year_2018.to_csv('2018.csv', index=False)\n",
    "year_2019.to_csv('2019.csv', index=False)"
   ]
  },
  {
   "cell_type": "markdown",
   "metadata": {},
   "source": [
    "COMBINING COUNT OF ALL CRIMES "
   ]
  },
  {
   "cell_type": "code",
   "execution_count": 45,
   "metadata": {},
   "outputs": [],
   "source": [
    "def sum_all_crimes(row):\n",
    "    return row[\"Data.Totals.Property.All\"] + row[\"Data.Totals.Violent.All\"]\n",
    "# Add a new column with the sum of all crimes for each row\n",
    "data[\"Total crime\"] = data.apply(sum_all_crimes, axis=1)"
   ]
  },
  {
   "cell_type": "markdown",
   "metadata": {},
   "source": [
    "SPLIT DATASET BY STATES"
   ]
  },
  {
   "cell_type": "code",
   "execution_count": 47,
   "metadata": {},
   "outputs": [],
   "source": [
    "new_df = data.loc[:, ['State', 'Year', 'Total crime']]\n",
    "new_df.to_csv('States', index=False)"
   ]
  },
  {
   "cell_type": "code",
   "execution_count": 38,
   "metadata": {},
   "outputs": [],
   "source": [
    "state_groups = new_df.groupby([\"State\"])"
   ]
  },
  {
   "cell_type": "code",
   "execution_count": 39,
   "metadata": {},
   "outputs": [],
   "source": [
    "# Iterate over the state groups and save each group as a CSV file\n",
    "for state_name, state_data in state_groups:\n",
    "    state_data.to_csv(f\"{state_name}.csv\", index=False)"
   ]
  },
  {
   "cell_type": "code",
   "execution_count": 40,
   "metadata": {},
   "outputs": [
    {
     "data": {
      "text/html": [
       "<div>\n",
       "<style scoped>\n",
       "    .dataframe tbody tr th:only-of-type {\n",
       "        vertical-align: middle;\n",
       "    }\n",
       "\n",
       "    .dataframe tbody tr th {\n",
       "        vertical-align: top;\n",
       "    }\n",
       "\n",
       "    .dataframe thead th {\n",
       "        text-align: right;\n",
       "    }\n",
       "</style>\n",
       "<table border=\"1\" class=\"dataframe\">\n",
       "  <thead>\n",
       "    <tr style=\"text-align: right;\">\n",
       "      <th></th>\n",
       "      <th>State</th>\n",
       "      <th>Year</th>\n",
       "      <th>Total crime</th>\n",
       "    </tr>\n",
       "  </thead>\n",
       "  <tbody>\n",
       "    <tr>\n",
       "      <th>0</th>\n",
       "      <td>Alabama</td>\n",
       "      <td>1999</td>\n",
       "      <td>192819</td>\n",
       "    </tr>\n",
       "    <tr>\n",
       "      <th>1</th>\n",
       "      <td>Alabama</td>\n",
       "      <td>2000</td>\n",
       "      <td>202159</td>\n",
       "    </tr>\n",
       "    <tr>\n",
       "      <th>2</th>\n",
       "      <td>Alabama</td>\n",
       "      <td>2001</td>\n",
       "      <td>192835</td>\n",
       "    </tr>\n",
       "    <tr>\n",
       "      <th>3</th>\n",
       "      <td>Alabama</td>\n",
       "      <td>2002</td>\n",
       "      <td>200331</td>\n",
       "    </tr>\n",
       "    <tr>\n",
       "      <th>4</th>\n",
       "      <td>Alabama</td>\n",
       "      <td>2003</td>\n",
       "      <td>201572</td>\n",
       "    </tr>\n",
       "  </tbody>\n",
       "</table>\n",
       "</div>"
      ],
      "text/plain": [
       "     State  Year  Total crime\n",
       "0  Alabama  1999       192819\n",
       "1  Alabama  2000       202159\n",
       "2  Alabama  2001       192835\n",
       "3  Alabama  2002       200331\n",
       "4  Alabama  2003       201572"
      ]
     },
     "execution_count": 40,
     "metadata": {},
     "output_type": "execute_result"
    }
   ],
   "source": [
    "new_df.head()"
   ]
  },
  {
   "cell_type": "code",
   "execution_count": 15,
   "metadata": {
    "colab": {
     "base_uri": "https://localhost:8080/",
     "height": 683
    },
    "id": "MpaazTytigDs",
    "outputId": "f09f7346-b1ec-4599-806e-f13acef81473"
   },
   "outputs": [
    {
     "data": {
      "image/png": "[encoded data removed]",
      "text/plain": [
       "<Figure size 640x480 with 1 Axes>"
      ]
     },
     "metadata": {},
     "output_type": "display_data"
    }
   ],
   "source": [
    "sns.barplot(x='State', y='Data.Totals.Property.All', data=year_1999, palette='Blues_d', saturation=0.8)\n",
    "plt.xlim(-0.5, len(data)-0.5)\n",
    "\n",
    "# show the chart\n",
    "plt.show()"
   ]
  },
  {
   "cell_type": "code",
   "execution_count": null,
   "metadata": {
    "id": "6DrLIjxoAOpO"
   },
   "outputs": [],
   "source": []
  }
 ],
 "metadata": {
  "colab": {
   "provenance": []
  },
  "kernelspec": {
   "display_name": "Python 3 (ipykernel)",
   "language": "python",
   "name": "python3"
  },
  "language_info": {
   "codemirror_mode": {
    "name": "ipython",
    "version": 3
   },
   "file_extension": ".py",
   "mimetype": "text/x-python",
   "name": "python",
   "nbconvert_exporter": "python",
   "pygments_lexer": "ipython3",
   "version": "3.9.13"
  }
 },
 "nbformat": 4,
 "nbformat_minor": 1
}
